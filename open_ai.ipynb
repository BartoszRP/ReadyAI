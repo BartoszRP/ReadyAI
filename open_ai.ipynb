{
 "cells": [
  {
   "cell_type": "code",
   "execution_count": 18,
   "metadata": {},
   "outputs": [],
   "source": [
    "import sys\n",
    "#!{sys.executable} -m pip install openai\n"
   ]
  },
  {
   "cell_type": "code",
   "execution_count": 19,
   "metadata": {},
   "outputs": [],
   "source": [
    "from openai import OpenAI\n",
    "from open_ai_k import klu"
   ]
  },
  {
   "cell_type": "code",
   "execution_count": 20,
   "metadata": {},
   "outputs": [],
   "source": [
    "client = OpenAI(api_key=klu)"
   ]
  },
  {
   "cell_type": "code",
   "execution_count": 21,
   "metadata": {},
   "outputs": [],
   "source": [
    "response = client.responses.create(\n",
    "    model=\"gpt-4.1-nano\",\n",
    "    input=\"Napisz mi 5 powodow do nauki programowanie w 2025.\"\n",
    ")"
   ]
  },
  {
   "cell_type": "code",
   "execution_count": 22,
   "metadata": {},
   "outputs": [
    {
     "name": "stdout",
     "output_type": "stream",
     "text": [
      "Oczywiście! Oto pięć powodów, dla których warto uczyć się programowania w 2025 roku:\n",
      "\n",
      "1. **Rosnące zapotrzebowanie na specjalistów IT** – Branża technologiczna stale się rozwija, a programiści są coraz bardziej poszukiwani w różnych dziedzinach, od fintechu po zdrowie i edukację.\n",
      "\n",
      "2. **Możliwości tworzenia innowacyjnych rozwiązań** – Programowanie pozwala na rozwijanie własnych projektów, startupów czy rozwiązań, które mogą mieć realny wpływ na świat.\n",
      "\n",
      "3. **Elastyczność i praca zdalna** – Umiejętność programowania daje dużą swobodę w wyborze miejsca i formy pracy, co jest coraz bardziej cenione na rynku pracy.\n",
      "\n",
      "4. **Rozwój umiejętności logicznego myślenia i rozwiązywania problemów** – Nauka programowania wspiera rozwijanie krytycznego myślenia, analitycznego podejścia oraz dokładności.\n",
      "\n",
      "5. **Wysokie zarobki i stabilność zawodowa** – Programiści często cieszą się atrakcyjnymi wynagrodzeniami i stabilną sytuacją na rynku pracy, co jest ważne w zmieniającym się świecie.\n",
      "\n",
      "Czy chcesz, żebym przygotował wersję tego tekstu w formie krótkiego podsumowania lub bardziej szczegółowo?\n"
     ]
    }
   ],
   "source": [
    "print(response.output_text)"
   ]
  }
 ],
 "metadata": {
  "kernelspec": {
   "display_name": "Python 3",
   "language": "python",
   "name": "python3"
  },
  "language_info": {
   "codemirror_mode": {
    "name": "ipython",
    "version": 3
   },
   "file_extension": ".py",
   "mimetype": "text/x-python",
   "name": "python",
   "nbconvert_exporter": "python",
   "pygments_lexer": "ipython3",
   "version": "3.12.6"
  }
 },
 "nbformat": 4,
 "nbformat_minor": 2
}
